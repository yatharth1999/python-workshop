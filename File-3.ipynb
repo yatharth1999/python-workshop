{
 "cells": [
  {
   "cell_type": "code",
   "execution_count": 1,
   "metadata": {},
   "outputs": [
    {
     "name": "stdout",
     "output_type": "stream",
     "text": [
      "while loop\n",
      "while loop\n",
      "while loop\n",
      "else statement\n"
     ]
    }
   ],
   "source": [
    "#Q1.\n",
    "count = 0\n",
    "\n",
    "while count < 3:\n",
    "    print(\"while loop\")\n",
    "    count = count + 1\n",
    "else:\n",
    "    print(\"else statement\")"
   ]
  },
  {
   "cell_type": "code",
   "execution_count": 2,
   "metadata": {},
   "outputs": [
    {
     "ename": "SyntaxError",
     "evalue": "invalid syntax (<ipython-input-2-cce8d84fce2e>, line 3)",
     "output_type": "error",
     "traceback": [
      "\u001b[1;36m  File \u001b[1;32m\"<ipython-input-2-cce8d84fce2e>\"\u001b[1;36m, line \u001b[1;32m3\u001b[0m\n\u001b[1;33m    for num in range(1, var+1)\u001b[0m\n\u001b[1;37m                              ^\u001b[0m\n\u001b[1;31mSyntaxError\u001b[0m\u001b[1;31m:\u001b[0m invalid syntax\n"
     ]
    }
   ],
   "source": [
    "#Q2.\n",
    "var= int(input(\"enter max value\"))\n",
    "for num in range(1, var+1)\n",
    "if(num%2==0):\n",
    "    print(\"var\")\n",
    "    "
   ]
  },
  {
   "cell_type": "code",
   "execution_count": 3,
   "metadata": {},
   "outputs": [],
   "source": [
    "#Q3.\n"
   ]
  },
  {
   "cell_type": "code",
   "execution_count": 4,
   "metadata": {},
   "outputs": [
    {
     "name": "stdout",
     "output_type": "stream",
     "text": [
      "11\n",
      "9\n",
      "89\n"
     ]
    }
   ],
   "source": [
    "#Q4.\n",
    "for num in [20, 11, 9, 66, 4, 89, 44]:\n",
    "    if num%2 == 0:\n",
    "        pass\n",
    "    else:\n",
    "        print(num)"
   ]
  },
  {
   "cell_type": "code",
   "execution_count": 5,
   "metadata": {},
   "outputs": [
    {
     "name": "stdout",
     "output_type": "stream",
     "text": [
      "5\n"
     ]
    }
   ],
   "source": [
    "#Q5(A)\n",
    "str= \"hello\"\n",
    "count= len(str)\n",
    "print(count)\n"
   ]
  },
  {
   "cell_type": "code",
   "execution_count": 6,
   "metadata": {},
   "outputs": [
    {
     "name": "stdout",
     "output_type": "stream",
     "text": [
      "5\n"
     ]
    }
   ],
   "source": [
    "#Q5(B)\n",
    "count=0\n",
    "for i in str:\n",
    "    count= count+1\n",
    "print(count)\n",
    "   "
   ]
  },
  {
   "cell_type": "code",
   "execution_count": 7,
   "metadata": {},
   "outputs": [],
   "source": [
    "#Q6.\n"
   ]
  },
  {
   "cell_type": "code",
   "execution_count": 8,
   "metadata": {},
   "outputs": [
    {
     "data": {
      "text/plain": [
       "'helo'"
      ]
     },
     "execution_count": 8,
     "metadata": {},
     "output_type": "execute_result"
    }
   ],
   "source": [
    "#Q7.\n",
    "str=\"hello\"\n",
    "str[0:2]+ str[-2: ]"
   ]
  },
  {
   "cell_type": "code",
   "execution_count": 9,
   "metadata": {},
   "outputs": [
    {
     "name": "stdout",
     "output_type": "stream",
     "text": [
      "enter a stringmy name is mahika\n",
      "my name is mahika\n",
      "my na$e is $ahika\n"
     ]
    }
   ],
   "source": [
    "#Q8.\n",
    "str1= (input(\"enter a string\"))\n",
    "print(str1)\n",
    "char1= str1[0]\n",
    "str2= str1.replace(char1, '$')\n",
    "print(char1+ str2[1: ])"
   ]
  },
  {
   "cell_type": "code",
   "execution_count": 11,
   "metadata": {},
   "outputs": [
    {
     "name": "stdout",
     "output_type": "stream",
     "text": [
      "enter a string:mahika\n",
      "enter the second string:goyal\n",
      "alhika goyma\n"
     ]
    }
   ],
   "source": [
    "#Q9.\n",
    "str1= input(\"enter a string:\")\n",
    "str2= input(\"enter the second string:\")\n",
    "print(str2[-2: ]+ str1[2:]+ \" \"+ str2[0:3]+ str1[0:2])"
   ]
  },
  {
   "cell_type": "code",
   "execution_count": 12,
   "metadata": {},
   "outputs": [
    {
     "name": "stdout",
     "output_type": "stream",
     "text": [
      "enter a string:rajma\n",
      "rajmaing\n"
     ]
    }
   ],
   "source": [
    "#Q10.\n",
    "str1= input(\"enter a string:\")\n",
    "count= len(str1)\n",
    "if count>2:\n",
    "    if str[-3:]=='ing':\n",
    "        str1= str1[0:-3]+\"ly\"\n",
    "    else:\n",
    "        str1= str1+\"ing\"\n",
    "print(str1)"
   ]
  },
  {
   "cell_type": "code",
   "execution_count": null,
   "metadata": {},
   "outputs": [],
   "source": []
  }
 ],
 "metadata": {
  "kernelspec": {
   "display_name": "Python 3",
   "language": "python",
   "name": "python3"
  },
  "language_info": {
   "codemirror_mode": {
    "name": "ipython",
    "version": 3
   },
   "file_extension": ".py",
   "mimetype": "text/x-python",
   "name": "python",
   "nbconvert_exporter": "python",
   "pygments_lexer": "ipython3",
   "version": "3.7.4"
  }
 },
 "nbformat": 4,
 "nbformat_minor": 2
}
